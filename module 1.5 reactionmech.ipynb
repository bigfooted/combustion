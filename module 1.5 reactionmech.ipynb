{
 "cells": [
  {
   "cell_type": "markdown",
   "metadata": {},
   "source": [
    "# module 1.5 - reaction mechanism"
   ]
  },
  {
   "cell_type": "code",
   "execution_count": 1,
   "metadata": {},
   "outputs": [],
   "source": [
    "\"\"\"\n",
    "An example demonstrating how to use Species and Reaction objects to\n",
    "programmatically extract a reaction submechanism. In this example, the CO/H2\n",
    "oxidation reactions are extracted from the GRI 3.0 mechanism.\n",
    "\n",
    "To test the submechanism, a premixed CO/H2 flame is simulated using the original\n",
    "mechanism and the submechanism, which demonstrates that the submechanism\n",
    "contains all of the important species and reactions.\n",
    "\"\"\"\n",
    "\n",
    "from timeit import default_timer\n",
    "import cantera as ct\n",
    "import numpy as np\n",
    "import matplotlib.pyplot as plt"
   ]
  },
  {
   "cell_type": "code",
   "execution_count": 2,
   "metadata": {},
   "outputs": [
    {
     "name": "stdout",
     "output_type": "stream",
     "text": [
      "Species: H2, H, O, O2, OH, H2O, HO2, H2O2, C, CO, CO2, N2\n",
      "\n",
      "Reactions:\n",
      "2 O + M <=> O2 + M\n",
      "H + O + M <=> OH + M\n",
      "H2 + O <=> H + OH\n",
      "HO2 + O <=> O2 + OH\n",
      "H2O2 + O <=> HO2 + OH\n",
      "CO + O (+M) <=> CO2 (+M)\n",
      "CO + O2 <=> CO2 + O\n",
      "H + O2 + M <=> HO2 + M\n",
      "H + 2 O2 <=> HO2 + O2\n",
      "H + H2O + O2 <=> H2O + HO2\n",
      "H + N2 + O2 <=> HO2 + N2\n",
      "H + O2 <=> O + OH\n",
      "2 H + M <=> H2 + M\n",
      "2 H + H2 <=> 2 H2\n",
      "2 H + H2O <=> H2 + H2O\n",
      "CO2 + 2 H <=> CO2 + H2\n",
      "H + OH + M <=> H2O + M\n",
      "H + HO2 <=> H2O + O\n",
      "H + HO2 <=> H2 + O2\n",
      "H + HO2 <=> 2 OH\n",
      "H + H2O2 <=> H2 + HO2\n",
      "H + H2O2 <=> H2O + OH\n",
      "H2 + OH <=> H + H2O\n",
      "2 OH (+M) <=> H2O2 (+M)\n",
      "2 OH <=> H2O + O\n",
      "HO2 + OH <=> H2O + O2\n",
      "H2O2 + OH <=> H2O + HO2\n",
      "H2O2 + OH <=> H2O + HO2\n",
      "C + OH <=> CO + H\n",
      "CO + OH <=> CO2 + H\n",
      "2 HO2 <=> H2O2 + O2\n",
      "2 HO2 <=> H2O2 + O2\n",
      "CO + HO2 <=> CO2 + OH\n",
      "C + O2 <=> CO + O\n",
      "HO2 + OH <=> H2O + O2\n",
      "\n",
      "\n"
     ]
    }
   ],
   "source": [
    "all_species = ct.Species.listFromFile('gri30.xml')\n",
    "species = []\n",
    "\n",
    "# Filter species\n",
    "for S in all_species:\n",
    "    comp = S.composition\n",
    "    if 'C' in comp and 'H' in comp:\n",
    "        # Exclude all hydrocarbon species\n",
    "        continue\n",
    "    if 'N' in comp and comp != {'N':2}:\n",
    "        # Exclude all nitrogen compounds except for N2\n",
    "        continue\n",
    "    if 'Ar' in comp:\n",
    "        # Exclude Argon\n",
    "        continue\n",
    "\n",
    "    species.append(S)\n",
    "\n",
    "species_names = {S.name for S in species}\n",
    "print('Species: {0}'.format(', '.join(S.name for S in species)))\n",
    "\n",
    "# Filter reactions, keeping only those that only involve the selected species\n",
    "all_reactions = ct.Reaction.listFromFile('gri30.xml')\n",
    "reactions = []\n",
    "\n",
    "print('\\nReactions:')\n",
    "for R in all_reactions:\n",
    "    if not all(reactant in species_names for reactant in R.reactants):\n",
    "        continue\n",
    "\n",
    "    if not all(product in species_names for product in R.products):\n",
    "        continue\n",
    "\n",
    "    reactions.append(R)\n",
    "    print(R.equation)\n",
    "print('\\n')"
   ]
  },
  {
   "cell_type": "markdown",
   "metadata": {},
   "source": [
    "gas1 contains the complete GRI 3.0 mechanism stored in the file and gas2 contains the hydrogen submechanism that we just created."
   ]
  },
  {
   "cell_type": "code",
   "execution_count": 3,
   "metadata": {},
   "outputs": [],
   "source": [
    "gas1 = ct.Solution('gri30.xml')\n",
    "gas2 = ct.Solution(thermo='IdealGas', kinetics='GasKinetics',\n",
    "                   species=species, reactions=reactions)"
   ]
  },
  {
   "cell_type": "markdown",
   "metadata": {},
   "source": [
    "We define a function that we can call to compute a low pressure premixed counterflow flame of hydrogen, CO, and air"
   ]
  },
  {
   "cell_type": "code",
   "execution_count": 4,
   "metadata": {},
   "outputs": [],
   "source": [
    "def solve_flame(gas):\n",
    "    gas.TPX = 373, 0.05*ct.one_atm, 'H2:0.4, CO:0.6, O2:1, N2:3.76'\n",
    "\n",
    "    # Create the flame simulation object\n",
    "    sim = ct.CounterflowPremixedFlame(gas=gas, width=0.2)\n",
    "\n",
    "    sim.reactants.mdot = 0.12 # kg/m^2/s\n",
    "    sim.products.mdot = 0.06 # kg/m^2/s\n",
    "\n",
    "    sim.set_refine_criteria(ratio=3, slope=0.1, curve=0.2)\n",
    "    sim.solve(0, auto=True)\n",
    "    return sim"
   ]
  },
  {
   "cell_type": "code",
   "execution_count": 5,
   "metadata": {},
   "outputs": [
    {
     "name": "stdout",
     "output_type": "stream",
     "text": [
      "Solved with GRI 3.0 in 13.03 seconds\n"
     ]
    }
   ],
   "source": [
    "# we solve the flame problem with the GRi 3.0 mechanism, this will take maybe 15 seconds\n",
    "t1 = default_timer()\n",
    "sim1 = solve_flame(gas1)\n",
    "t2 = default_timer()\n",
    "print('Solved with GRI 3.0 in {0:.2f} seconds'.format(t2-t1))"
   ]
  },
  {
   "cell_type": "code",
   "execution_count": 6,
   "metadata": {},
   "outputs": [
    {
     "name": "stdout",
     "output_type": "stream",
     "text": [
      "Solved with CO/H2 submechanism in 0.61 seconds\n"
     ]
    }
   ],
   "source": [
    "# solve with the reduced mechanism\n",
    "t1 = default_timer()\n",
    "sim2 = solve_flame(gas2)\n",
    "t2 = default_timer()\n",
    "print('Solved with CO/H2 submechanism in {0:.2f} seconds'.format(t2-t1))"
   ]
  },
  {
   "cell_type": "code",
   "execution_count": 7,
   "metadata": {},
   "outputs": [
    {
     "data": {
      "image/png": "[encoded data removed]",
      "text/plain": [
       "<Figure size 432x288 with 1 Axes>"
      ]
     },
     "metadata": {
      "needs_background": "light"
     },
     "output_type": "display_data"
    }
   ],
   "source": [
    "plt.plot(sim1.grid, sim1.heat_release_rate,\n",
    "         lw=2, label='GRI 3.0')\n",
    "\n",
    "plt.plot(sim2.grid, sim2.heat_release_rate,\n",
    "         'r--', lw=2, label='CO/H2 submechanism')\n",
    "\n",
    "plt.ylabel('Heat release rate ($W/m^3$)')\n",
    "plt.xlabel('position (m)')\n",
    "plt.legend(loc='upper right')\n",
    "plt.tight_layout()\n",
    "plt.show()"
   ]
  },
  {
   "cell_type": "markdown",
   "metadata": {},
   "source": [
    "# Mechanism reduction part 2\n",
    "In the previous exercise we just removed hydrocarbon and nitrogen reactions. We can do better than that"
   ]
  },
  {
   "cell_type": "code",
   "execution_count": 8,
   "metadata": {},
   "outputs": [
    {
     "data": {
      "image/png": "[encoded data removed]",
      "text/plain": [
       "<Figure size 432x288 with 1 Axes>"
      ]
     },
     "metadata": {
      "needs_background": "light"
     },
     "output_type": "display_data"
    }
   ],
   "source": [
    "\"\"\"\n",
    "A simplistic approach to mechanism reduction which demonstrates Cantera's\n",
    "features for dynamically manipulating chemical mechanisms.\n",
    "\n",
    "Here, we use the full GRI 3.0 mechanism to simulate adiabatic, constant pressure\n",
    "ignition of a lean methane/air mixture. We track the maximum reaction rates for\n",
    "each reaction to determine which reactions are the most important, according to\n",
    "a simple metric based on the relative net reaction rate.\n",
    "\n",
    "We then create a sequence of reduced mechanisms including only the top reactions\n",
    "and the associated species, and run the simulations again with these mechanisms\n",
    "to see whether the reduced mechanisms with a certain number of species are able\n",
    "to adequately simulate the ignition delay problem.\n",
    "\"\"\"\n",
    "\n",
    "gas = ct.Solution('gri30.xml')\n",
    "initial_state = 1200, 5 * ct.one_atm, 'CH4:0.35, O2:1.0, N2:3.76'\n",
    "\n",
    "# Run a simulation with the full mechanism\n",
    "gas.TPX = initial_state\n",
    "r = ct.IdealGasConstPressureReactor(gas)\n",
    "sim = ct.ReactorNet([r])\n",
    "\n",
    "tt = []\n",
    "TT = []\n",
    "t = 0.0\n",
    "# Rmax is the maximum relative reaction rate at any timestep\n",
    "Rmax = np.zeros(gas.n_reactions)\n",
    "while t < 0.02:\n",
    "    t = sim.step()\n",
    "    tt.append(1000 * t)\n",
    "    TT.append(r.T)\n",
    "    rnet = abs(gas.net_rates_of_progress)\n",
    "    rnet /= max(rnet)\n",
    "    Rmax = np.maximum(Rmax, rnet)\n",
    "\n",
    "# store result    \n",
    "#time_1 = tt\n",
    "#Temp_1 = TT\n",
    "\n",
    "plt.plot(tt, TT, label='K=53, R=325', color='k', lw=3, zorder=100)\n",
    "# Get the reaction objects, and sort them so the most active reactions are first\n",
    "R = sorted(zip(Rmax, gas.reactions()), key=lambda x: -x[0])\n",
    "\n",
    "# Test reduced mechanisms with different numbers of reactions\n",
    "C = plt.cm.winter(np.linspace(0,1,5))\n",
    "\n",
    "# retrieve the N most reactive reactions \n",
    "# we then have to find out how many species belong to this\n",
    "for i,N in enumerate([40,50,60,70,80]):\n",
    "    # Get the N most active reactions\n",
    "    reactions = [r[1] for r in R[:N]]\n",
    "\n",
    "    # find the species involved in these reactions. At a minimum, include all\n",
    "    # species in the reactant mixture\n",
    "    species_names = {'N2', 'CH4', 'O2'}\n",
    "    for reaction in reactions:\n",
    "        species_names.update(reaction.reactants)\n",
    "        species_names.update(reaction.products)\n",
    "\n",
    "    # Get the species objects\n",
    "    species = [gas.species(name) for name in species_names]\n",
    "\n",
    "    # create the new reduced mechanism\n",
    "    gas2 = ct.Solution(thermo='IdealGas', kinetics='GasKinetics',\n",
    "                       species=species, reactions=reactions)\n",
    "\n",
    "    # Re-run the ignition problem with the reduced mechanism\n",
    "    gas2.TPX = initial_state\n",
    "    r = ct.IdealGasConstPressureReactor(gas2)\n",
    "    sim = ct.ReactorNet([r])\n",
    "\n",
    "    t = 0.0\n",
    "\n",
    "    tt = []\n",
    "    TT = []\n",
    "    while t < 0.02:\n",
    "        t = sim.step()\n",
    "        tt.append(1000 * t)\n",
    "        TT.append(r.T)\n",
    "\n",
    "    plt.plot(tt,TT, lw=2, color=C[i],\n",
    "             label='K={0}, R={1}'.format(gas2.n_species, N))\n",
    "    plt.xlabel('Time (ms)')\n",
    "    plt.ylabel('Temperature (K)')\n",
    "    plt.legend(loc='upper left')\n",
    "    plt.title('Reduced mechanism ignition delay times\\n'\n",
    "              'K: number of species; R: number of reactions')\n",
    "    plt.xlim(0, 20)\n",
    "    plt.tight_layout()\n",
    "\n",
    "plt.show()"
   ]
  },
  {
   "cell_type": "code",
   "execution_count": null,
   "metadata": {},
   "outputs": [],
   "source": []
  }
 ],
 "metadata": {
  "kernelspec": {
   "display_name": "envcantera",
   "language": "python",
   "name": "envcantera"
  },
  "language_info": {
   "codemirror_mode": {
    "name": "ipython",
    "version": 3
   },
   "file_extension": ".py",
   "mimetype": "text/x-python",
   "name": "python",
   "nbconvert_exporter": "python",
   "pygments_lexer": "ipython3",
   "version": "3.7.9"
  }
 },
 "nbformat": 4,
 "nbformat_minor": 4
}
