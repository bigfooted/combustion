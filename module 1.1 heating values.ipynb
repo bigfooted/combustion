{
 "cells": [
  {
   "cell_type": "markdown",
   "metadata": {},
   "source": [
    "# Module 1.1 - heating value\n",
    "This module is similar to the example module from Cantera: \n",
    "https://cantera.org/examples/jupyter/thermo/heating_value.ipynb.html\n",
    "We are going to load a reaction mechanism and retrieve the heating values.\n",
    "The complete reaction of methane and air is:\n",
    "\n",
    "$$CH_4 + 2O_2 \\rightarrow CO_2 + 2H_2O$$\n",
    "\n",
    "We compute the lower heating value (LHV) as the difference in enthalpy (per kg mixture) between reactants and products at constant temperature and pressure, divided by the mass fraction of fuel in the reactants."
   ]
  },
  {
   "cell_type": "code",
   "execution_count": 1,
   "metadata": {},
   "outputs": [
    {
     "name": "stdout",
     "output_type": "stream",
     "text": [
      "LHV = 50.026 MJ/kg\n"
     ]
    }
   ],
   "source": [
    "import cantera as ct\n",
    "gas = ct.Solution('gri30.cti')\n",
    "\n",
    "# Set reactants state\n",
    "gas.TPX = 298, 101325, 'CH4:1, O2:2'\n",
    "h1 = gas.enthalpy_mass\n",
    "Y_CH4 = gas['CH4'].Y[0] # returns an array, of which we only want the first element\n",
    "\n",
    "# set state to complete combustion products without changing T or P\n",
    "gas.TPX = None, None, 'CO2:1, H2O:2' \n",
    "h2 = gas.enthalpy_mass\n",
    "LHV = -(h2-h1)/Y_CH4/1e6\n",
    "print('LHV = {:.3f} MJ/kg'.format(LHV))"
   ]
  },
  {
   "cell_type": "markdown",
   "metadata": {},
   "source": [
    "The LHV is calculated assuming that the water produced during combustion remains in the gas phase. However, more energy can be extracted from the mixture if this water is condensed, which is done in condensing boilers. This value is the higher heating value (HHV).\n",
    "\n",
    "The ideal gas mixture model used here cannot calculate this contribution directly. However, Cantera also has a non-ideal equation of state which can be used to compute this contribution."
   ]
  },
  {
   "cell_type": "code",
   "execution_count": 2,
   "metadata": {},
   "outputs": [
    {
     "name": "stdout",
     "output_type": "stream",
     "text": [
      "HHV = 55.512 MJ/kg\n"
     ]
    }
   ],
   "source": [
    "water = ct.Water()\n",
    "# Set liquid water state, with vapor fraction x = 0\n",
    "water.TX = 298, 0\n",
    "h_liquid = water.h\n",
    "# Set gaseous water state, with vapor fraction x = 1\n",
    "water.TX = 298, 1\n",
    "h_gas = water.h\n",
    "\n",
    "# Calculate higher heating value\n",
    "Y_H2O = gas['H2O'].Y[0]\n",
    "HHV = -(h2-h1 + (h_liquid-h_gas) * Y_H2O)/Y_CH4/1e6\n",
    "print('HHV = {:.3f} MJ/kg'.format(HHV))"
   ]
  },
  {
   "cell_type": "markdown",
   "metadata": {},
   "source": [
    "The thermal efficiency of a heat exchanger is 100% if all heat can be extracted from the combustion products and the combustion products exit the heat exchanger at ambient temperature. Often, the lower heating value is used and the efficiency is 100% if we can extract 50.02 MJ from a kg of burnt methane. However, when the combustion products are cooled below the condensation temperature of water, we get an additional amount of heat, equal to:"
   ]
  },
  {
   "cell_type": "code",
   "execution_count": 3,
   "metadata": {},
   "outputs": [
    {
     "name": "stdout",
     "output_type": "stream",
     "text": [
      "efficiency = 111.0 %\n"
     ]
    }
   ],
   "source": [
    "print('efficiency = {:.1f} %'.format(100.0*HHV/LHV))"
   ]
  },
  {
   "cell_type": "markdown",
   "metadata": {},
   "source": [
    "This is the reason that condensing boilers claim to have more than 100% efficiency, because regulations demand that the lower heating value is used to determine the efficiency."
   ]
  },
  {
   "cell_type": "markdown",
   "metadata": {},
   "source": [
    "## Generalizing to arbitrary species\n",
    "\n",
    "We can generalize this calculation by determining the composition of the products automatically rather than directly specifying the product composition. This can be done by computing the elemental mole fractions of the reactants mixture and noting that for complete combustion, all of the carbon ends up as $CO_2$, all of the hydrogen ends up as $H_2O$, and all of the nitrogen ends up as $N_2$. From this, we can compute the ratio of these species in the products.\n"
   ]
  },
  {
   "cell_type": "code",
   "execution_count": 4,
   "metadata": {},
   "outputs": [
    {
     "name": "stdout",
     "output_type": "stream",
     "text": [
      "fuel   LHV (MJ/kg)   HHV (MJ/kg)\n",
      "H2       119.959      141.788\n",
      "CH4       50.026       55.512\n",
      "C2H6      47.511       51.901\n",
      "C3H8      46.352       50.344\n",
      "NH3       18.604       22.480\n",
      "CH3OH     21.104       23.851\n"
     ]
    }
   ],
   "source": [
    "# define a function that we can call with one argument and two return values\n",
    "def heating_value(fuel):\n",
    "    \"\"\" Returns the LHV and HHV for the specified fuel \"\"\"\n",
    "    gas.TP = 298, ct.one_atm\n",
    "    # we set the equivalence ratio using the fuel\n",
    "    gas.set_equivalence_ratio(1.0, fuel, 'O2:1.0')\n",
    "    h1 = gas.enthalpy_mass\n",
    "    Y_fuel = gas[fuel].Y[0]\n",
    "\n",
    "    # complete combustion products, which are fuel dependent\n",
    "    Y_products = {'CO2': gas.elemental_mole_fraction('C'),\n",
    "                  'H2O': 0.5 * gas.elemental_mole_fraction('H'),\n",
    "                  'N2': 0.5 * gas.elemental_mole_fraction('N')}\n",
    "\n",
    "    gas.TPX = None, None, Y_products\n",
    "    Y_H2O = gas['H2O'].Y[0]\n",
    "    h2 = gas.enthalpy_mass\n",
    "    LHV = -(h2-h1)/Y_fuel\n",
    "    HHV = -(h2-h1 + (h_liquid-h_gas) * Y_H2O)/Y_fuel\n",
    "    return LHV, HHV\n",
    "\n",
    "fuels = ['H2', 'CH4', 'C2H6', 'C3H8', 'NH3', 'CH3OH']\n",
    "print('fuel   LHV (MJ/kg)   HHV (MJ/kg)')\n",
    "for fuel in fuels:\n",
    "    LHV, HHV = heating_value(fuel)\n",
    "    print('{:8s} {:7.3f}      {:7.3f}'.format(fuel, LHV/1e6, HHV/1e6))"
   ]
  },
  {
   "cell_type": "markdown",
   "metadata": {},
   "source": [
    "## Assignment 1.1:\n",
    "determine the LHV and HHV in $\\frac{MJ}{M^3}$. Make a bar graph comparing the mass and volumetric energy content of the above fuels. "
   ]
  },
  {
   "cell_type": "code",
   "execution_count": null,
   "metadata": {},
   "outputs": [],
   "source": []
  }
 ],
 "metadata": {
  "kernelspec": {
   "display_name": "envcantera",
   "language": "python",
   "name": "envcantera"
  },
  "language_info": {
   "codemirror_mode": {
    "name": "ipython",
    "version": 3
   },
   "file_extension": ".py",
   "mimetype": "text/x-python",
   "name": "python",
   "nbconvert_exporter": "python",
   "pygments_lexer": "ipython3",
   "version": "3.7.9"
  }
 },
 "nbformat": 4,
 "nbformat_minor": 4
}
