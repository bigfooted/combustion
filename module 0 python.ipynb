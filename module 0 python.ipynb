{
 "cells": [
  {
   "cell_type": "markdown",
   "id": "7b2df919-f355-42d6-a8e6-090d88adaa60",
   "metadata": {},
   "source": [
    "# Introduction to python in jupyterlabs\n",
    "\n",
    "When you have loaded this notebook in JupyterLabs, you will see that the notebook consists of input cells and output cells. You can select cell by clicing on them or by moving to cells with the arrow buttons. The selected cell is highlighted on the left by a blue vertical bar. You can edit a cell by double-clicking on it. The input cells can be one of two types: a *Code* cell or a *Markdown* cell. Markdown simply means special text: You can change the font, the color, the size and even add html or Latex code, for instance an equation can be written like this:\n",
    "$$\\frac{\\partial u}{\\partial t} = \\nabla \\cdot x$$\n",
    "\n",
    "and html like this:\n",
    "<span style='color:Blue'> Blue color.  </span>\n",
    "\n",
    "For a more complete overview of markdown options, you can check out [this website:](https://www.markdownguide.org/basic-syntax/)\n",
    "\n",
    "Note that when you click on the input cell, you can edit it. You can evaluate the cell by pressing the *play* button above or by pressing SHIFT+ENTER while inside an input cell. Please test it on this input cell."
   ]
  },
  {
   "cell_type": "code",
   "execution_count": 5,
   "id": "39b38866-679f-4c9e-90e9-02c70afe1246",
   "metadata": {},
   "outputs": [
    {
     "name": "stdout",
     "output_type": "stream",
     "text": [
      "1\n"
     ]
    }
   ],
   "source": [
    "# This is an example of a code cell\n",
    "import matplotlib\n",
    "x=1\n",
    "print(x)"
   ]
  },
  {
   "cell_type": "markdown",
   "id": "f94ae70a-6ec2-4924-9af4-adec838644be",
   "metadata": {},
   "source": [
    "## python tutorial\n",
    "\n",
    "Please go to https://www.w3schools.com/python/ first and follow the following tutorials:\n",
    "\n",
    "1. in the section *Python Tutorial* from *Syntax* up and until *Arrays*, \n",
    "2. File Handling\n",
    "3. Python Modules - NumPy (you can skip NumPy Random and Numpy ufunc)\n",
    "4. Python matplotlib\n",
    "\n",
    "Please perform the *try it yourself* actions inside JupyterLabs to get used to using notebooks.\n",
    "\n",
    "After completing the python tutorials, please make the assignment below and hand it in before continuing with the cantera assignments."
   ]
  },
  {
   "cell_type": "markdown",
   "id": "5a85bba6-a68d-4abc-9a3f-029aa69850f6",
   "metadata": {},
   "source": [
    "# python assignment \n",
    "As a final assignment to this python tutorial session, you will visualize the motion of a projectile based on Newton’s law (https://en.wikipedia.org/wiki/Projectile_motion): \n",
    "First create a new notebook, start the notebook with a Markdown Cell with a title, your name, and a description of what the notebook does.\n",
    "\n",
    "1. Create a function *displacement* that computes the horizontal and vertical displacement x(t) and y(t) of a projectile that is launched with an initial velocity $(v_x ,v_y)$.  The input to the function are the initial velocity components, and the time t. **[5 pts]**\n",
    "2. Create a 2d numpy array with 20 equally spaced time intervals Δt from t=0 until the projectile hits the ground again ($t=t_{\\textrm{end}}$). Your timestep should depend on your choice for the initial velocity components. **[2 pts]**\n",
    "3. Use a for loop to call your function *displacement*, fill the array and plot it in a matplotlib figure with position x and y on the axis. Make sure that the matplotlib figure is complete: x axis and y-axis have a proper title with units, the figure has a descriptive title, etc. **[2 pts]**\n",
    "\n",
    "After finishing the assignment, click on *Restart the kernel* above, and go through your notebook from start to end to make sure it is running correctly. Then upload the final jupyter labs notebook and also an exported pdf, giving it the filename studentnumber_pythonassignment.ipynb and studentnumber_pythonassignment.pdf  \n",
    "After the python assignment, you are ready to continue with the cantera assignments."
   ]
  }
 ],
 "metadata": {
  "kernelspec": {
   "display_name": "Python 3",
   "language": "python",
   "name": "python3"
  },
  "language_info": {
   "codemirror_mode": {
    "name": "ipython",
    "version": 3
   },
   "file_extension": ".py",
   "mimetype": "text/x-python",
   "name": "python",
   "nbconvert_exporter": "python",
   "pygments_lexer": "ipython3",
   "version": "3.8.8"
  }
 },
 "nbformat": 4,
 "nbformat_minor": 5
}
